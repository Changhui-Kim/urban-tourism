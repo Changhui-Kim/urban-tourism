{
 "cells": [
  {
   "cell_type": "code",
   "execution_count": 2,
   "id": "57e1e487",
   "metadata": {},
   "outputs": [],
   "source": [
    "# import streamlit as st\n",
    "# import mpld3\n",
    "# import streamlit.components.v1 as components\n",
    "import pandas as pd\n",
    "import numpy as np\n",
    "from matplotlib import pyplot as plt\n",
    "import matplotlib.dates as mdates\n",
    "from matplotlib.dates import DateFormatter\n",
    "from datetime import datetime, timedelta\n",
    "import plotly.express as px\n",
    "\n",
    "features_mean = np.load('./features_mean.npy')\n",
    "top50_dongs = pd.read_csv('./top50_dongs.csv')\n",
    "top50_dongs.columns = [['id', 'name']]\n",
    "\n",
    "date_list = [f'{y:02d}-{m:02d}' for y in range(2014, 2023) for m in range(1, 13)][10:-5]\n",
    "datetime_list = [datetime.strptime(date_list[i], '%Y-%m') for i in range(len(date_list))]"
   ]
  },
  {
   "cell_type": "code",
   "execution_count": null,
   "id": "9e4bae86",
   "metadata": {},
   "outputs": [],
   "source": [
    "def draw_graph(features, dong, fidx, start=0, end=93):\n",
    "\tfig, ax = plt.subplots()\n",
    "\tdong_name = dong['name']\n",
    "\tdong_id = int(dong['id'])\n",
    "\tax.plot(datetime_list,features[dong_id, range(start, end), fidx])\n",
    "\tplt.rc('font', family='NanumGothic')\n",
    "\n",
    "\tplt.title(f'dong_{dong_id}_{dong_name}')\n",
    "\tplt.axvline(x=datetime_list[62], color='red')\n",
    "\tmyFmt = DateFormatter(\"%Y-%d\")\n",
    "\tax.xaxis.set_major_formatter(myFmt)\n",
    "\tfig.autofmt_xdate()\n",
    "\tfig_html = mpld3.fig_to_html(fig)\n",
    "\tcomponents.html(fig_html, height=600)"
   ]
  },
  {
   "cell_type": "code",
   "execution_count": 91,
   "id": "dae1097c",
   "metadata": {},
   "outputs": [],
   "source": [
    "features_1 = features_mean[:,:,1]\n",
    "dong_ids = [dong_id[0] for dong_id in top50_dongs['id'].values]\n",
    "features_flat = np.concatenate([features_1[dong_id] for dong_id in dong_ids])\n",
    "dong_id_list = [dong_id for dong_id in dong_ids for i in range(features_1.shape[1])]\n",
    "dong_name_list = [dong_name[0] for dong_name in top50_dongs['name'].values for i in range(features_1.shape[1])]\n",
    "ym_list = [ym for ym in date_list for i in range(50)]\n",
    "\n",
    "dong_list = [dong_name[0] for dong_name in top50_dongs['name'].values]\n",
    "# st.plotly_chart(fig)"
   ]
  },
  {
   "cell_type": "code",
   "execution_count": 93,
   "id": "c9d66aef",
   "metadata": {},
   "outputs": [
    {
     "ename": "KeyError",
     "evalue": "'dong_name'",
     "output_type": "error",
     "traceback": [
      "\u001b[0;31m---------------------------------------------------------------------------\u001b[0m",
      "\u001b[0;31mKeyError\u001b[0m                                  Traceback (most recent call last)",
      "\u001b[0;32m/4TBSSD/miniconda3/envs/TF/lib/python3.7/site-packages/pandas/core/indexes/base.py\u001b[0m in \u001b[0;36mget_loc\u001b[0;34m(self, key, method, tolerance)\u001b[0m\n\u001b[1;32m   3360\u001b[0m             \u001b[0;32mtry\u001b[0m\u001b[0;34m:\u001b[0m\u001b[0;34m\u001b[0m\u001b[0;34m\u001b[0m\u001b[0m\n\u001b[0;32m-> 3361\u001b[0;31m                 \u001b[0;32mreturn\u001b[0m \u001b[0mself\u001b[0m\u001b[0;34m.\u001b[0m\u001b[0m_engine\u001b[0m\u001b[0;34m.\u001b[0m\u001b[0mget_loc\u001b[0m\u001b[0;34m(\u001b[0m\u001b[0mcasted_key\u001b[0m\u001b[0;34m)\u001b[0m\u001b[0;34m\u001b[0m\u001b[0;34m\u001b[0m\u001b[0m\n\u001b[0m\u001b[1;32m   3362\u001b[0m             \u001b[0;32mexcept\u001b[0m \u001b[0mKeyError\u001b[0m \u001b[0;32mas\u001b[0m \u001b[0merr\u001b[0m\u001b[0;34m:\u001b[0m\u001b[0;34m\u001b[0m\u001b[0;34m\u001b[0m\u001b[0m\n",
      "\u001b[0;32m/4TBSSD/miniconda3/envs/TF/lib/python3.7/site-packages/pandas/_libs/index.pyx\u001b[0m in \u001b[0;36mpandas._libs.index.IndexEngine.get_loc\u001b[0;34m()\u001b[0m\n",
      "\u001b[0;32m/4TBSSD/miniconda3/envs/TF/lib/python3.7/site-packages/pandas/_libs/index.pyx\u001b[0m in \u001b[0;36mpandas._libs.index.IndexEngine.get_loc\u001b[0;34m()\u001b[0m\n",
      "\u001b[0;32mpandas/_libs/hashtable_class_helper.pxi\u001b[0m in \u001b[0;36mpandas._libs.hashtable.PyObjectHashTable.get_item\u001b[0;34m()\u001b[0m\n",
      "\u001b[0;32mpandas/_libs/hashtable_class_helper.pxi\u001b[0m in \u001b[0;36mpandas._libs.hashtable.PyObjectHashTable.get_item\u001b[0;34m()\u001b[0m\n",
      "\u001b[0;31mKeyError\u001b[0m: 'dong_name'",
      "\nThe above exception was the direct cause of the following exception:\n",
      "\u001b[0;31mKeyError\u001b[0m                                  Traceback (most recent call last)",
      "\u001b[0;32m/tmp/ipykernel_12348/2815296276.py\u001b[0m in \u001b[0;36m<module>\u001b[0;34m\u001b[0m\n\u001b[1;32m      1\u001b[0m \u001b[0mdong\u001b[0m \u001b[0;34m=\u001b[0m \u001b[0mdong_list\u001b[0m\u001b[0;34m[\u001b[0m\u001b[0;36m0\u001b[0m\u001b[0;34m]\u001b[0m\u001b[0;34m\u001b[0m\u001b[0;34m\u001b[0m\u001b[0m\n\u001b[0;32m----> 2\u001b[0;31m \u001b[0mdf\u001b[0m\u001b[0;34m[\u001b[0m\u001b[0mdf\u001b[0m\u001b[0;34m[\u001b[0m\u001b[0;34m'dong_name'\u001b[0m\u001b[0;34m]\u001b[0m\u001b[0;34m==\u001b[0m\u001b[0mdong\u001b[0m\u001b[0;34m]\u001b[0m\u001b[0;34m\u001b[0m\u001b[0;34m\u001b[0m\u001b[0m\n\u001b[0m",
      "\u001b[0;32m/4TBSSD/miniconda3/envs/TF/lib/python3.7/site-packages/pandas/core/frame.py\u001b[0m in \u001b[0;36m__getitem__\u001b[0;34m(self, key)\u001b[0m\n\u001b[1;32m   3456\u001b[0m             \u001b[0;32mif\u001b[0m \u001b[0mself\u001b[0m\u001b[0;34m.\u001b[0m\u001b[0mcolumns\u001b[0m\u001b[0;34m.\u001b[0m\u001b[0mnlevels\u001b[0m \u001b[0;34m>\u001b[0m \u001b[0;36m1\u001b[0m\u001b[0;34m:\u001b[0m\u001b[0;34m\u001b[0m\u001b[0;34m\u001b[0m\u001b[0m\n\u001b[1;32m   3457\u001b[0m                 \u001b[0;32mreturn\u001b[0m \u001b[0mself\u001b[0m\u001b[0;34m.\u001b[0m\u001b[0m_getitem_multilevel\u001b[0m\u001b[0;34m(\u001b[0m\u001b[0mkey\u001b[0m\u001b[0;34m)\u001b[0m\u001b[0;34m\u001b[0m\u001b[0;34m\u001b[0m\u001b[0m\n\u001b[0;32m-> 3458\u001b[0;31m             \u001b[0mindexer\u001b[0m \u001b[0;34m=\u001b[0m \u001b[0mself\u001b[0m\u001b[0;34m.\u001b[0m\u001b[0mcolumns\u001b[0m\u001b[0;34m.\u001b[0m\u001b[0mget_loc\u001b[0m\u001b[0;34m(\u001b[0m\u001b[0mkey\u001b[0m\u001b[0;34m)\u001b[0m\u001b[0;34m\u001b[0m\u001b[0;34m\u001b[0m\u001b[0m\n\u001b[0m\u001b[1;32m   3459\u001b[0m             \u001b[0;32mif\u001b[0m \u001b[0mis_integer\u001b[0m\u001b[0;34m(\u001b[0m\u001b[0mindexer\u001b[0m\u001b[0;34m)\u001b[0m\u001b[0;34m:\u001b[0m\u001b[0;34m\u001b[0m\u001b[0;34m\u001b[0m\u001b[0m\n\u001b[1;32m   3460\u001b[0m                 \u001b[0mindexer\u001b[0m \u001b[0;34m=\u001b[0m \u001b[0;34m[\u001b[0m\u001b[0mindexer\u001b[0m\u001b[0;34m]\u001b[0m\u001b[0;34m\u001b[0m\u001b[0;34m\u001b[0m\u001b[0m\n",
      "\u001b[0;32m/4TBSSD/miniconda3/envs/TF/lib/python3.7/site-packages/pandas/core/indexes/base.py\u001b[0m in \u001b[0;36mget_loc\u001b[0;34m(self, key, method, tolerance)\u001b[0m\n\u001b[1;32m   3361\u001b[0m                 \u001b[0;32mreturn\u001b[0m \u001b[0mself\u001b[0m\u001b[0;34m.\u001b[0m\u001b[0m_engine\u001b[0m\u001b[0;34m.\u001b[0m\u001b[0mget_loc\u001b[0m\u001b[0;34m(\u001b[0m\u001b[0mcasted_key\u001b[0m\u001b[0;34m)\u001b[0m\u001b[0;34m\u001b[0m\u001b[0;34m\u001b[0m\u001b[0m\n\u001b[1;32m   3362\u001b[0m             \u001b[0;32mexcept\u001b[0m \u001b[0mKeyError\u001b[0m \u001b[0;32mas\u001b[0m \u001b[0merr\u001b[0m\u001b[0;34m:\u001b[0m\u001b[0;34m\u001b[0m\u001b[0;34m\u001b[0m\u001b[0m\n\u001b[0;32m-> 3363\u001b[0;31m                 \u001b[0;32mraise\u001b[0m \u001b[0mKeyError\u001b[0m\u001b[0;34m(\u001b[0m\u001b[0mkey\u001b[0m\u001b[0;34m)\u001b[0m \u001b[0;32mfrom\u001b[0m \u001b[0merr\u001b[0m\u001b[0;34m\u001b[0m\u001b[0;34m\u001b[0m\u001b[0m\n\u001b[0m\u001b[1;32m   3364\u001b[0m \u001b[0;34m\u001b[0m\u001b[0m\n\u001b[1;32m   3365\u001b[0m         \u001b[0;32mif\u001b[0m \u001b[0mis_scalar\u001b[0m\u001b[0;34m(\u001b[0m\u001b[0mkey\u001b[0m\u001b[0;34m)\u001b[0m \u001b[0;32mand\u001b[0m \u001b[0misna\u001b[0m\u001b[0;34m(\u001b[0m\u001b[0mkey\u001b[0m\u001b[0;34m)\u001b[0m \u001b[0;32mand\u001b[0m \u001b[0;32mnot\u001b[0m \u001b[0mself\u001b[0m\u001b[0;34m.\u001b[0m\u001b[0mhasnans\u001b[0m\u001b[0;34m:\u001b[0m\u001b[0;34m\u001b[0m\u001b[0;34m\u001b[0m\u001b[0m\n",
      "\u001b[0;31mKeyError\u001b[0m: 'dong_name'"
     ]
    }
   ],
   "source": [
    "dong = dong_list[0]\n",
    "df[df['dong_name']==dong]"
   ]
  },
  {
   "cell_type": "code",
   "execution_count": 88,
   "id": "1476fc5e",
   "metadata": {},
   "outputs": [
    {
     "data": {
      "text/plain": [
       "array([0.12630662, 0.13530778, 0.1460511 , 0.15389082, 0.16318235,\n",
       "       0.19628339, 0.21718931, 0.2296748 , 0.2369338 , 0.24361208,\n",
       "       0.25406504, 0.25029036, 0.27671312, 0.29907085, 0.32055749,\n",
       "       0.34262485, 0.33246225, 0.34233449, 0.3437863 , 0.3612079 ,\n",
       "       0.37049942, 0.41231127, 0.43641115, 0.45876887, 0.50406504,\n",
       "       0.53193961, 0.56620209, 0.58013937, 0.58391405, 0.6112079 ,\n",
       "       0.63675958, 0.68118467, 0.68670151, 0.69337979, 0.71109175,\n",
       "       0.71080139, 0.70354239, 0.70905923, 0.71718931, 0.72444832,\n",
       "       0.73025552, 0.73490128, 0.74506388, 0.7558072 , 0.7529036 ,\n",
       "       0.79965157, 0.80894309, 0.81184669, 0.81126597, 0.83885017,\n",
       "       0.86353078, 0.87253194, 0.87369338, 0.87456446, 0.88501742,\n",
       "       0.91492451, 0.91173055, 0.91811847, 0.92973287, 0.93292683,\n",
       "       0.9062137 , 0.95673635, 0.99912892, 1.        , 0.95934959,\n",
       "       0.92247387, 0.86469222, 0.84088269, 0.78339141, 0.7485482 ,\n",
       "       0.71864111, 0.7224158 , 0.69947735, 0.69221835, 0.67276423,\n",
       "       0.66144019, 0.64256678, 0.64256678, 0.5995935 , 0.53426249,\n",
       "       0.48461092, 0.47125436, 0.44715447, 0.40389082, 0.40301974,\n",
       "       0.41608595, 0.43495935, 0.42508711, 0.38124274, 0.37078978,\n",
       "       0.37601626, 0.40882695, 0.40940767])"
      ]
     },
     "execution_count": 88,
     "metadata": {},
     "output_type": "execute_result"
    }
   ],
   "source": [
    "features_1[dong_ids[0]]"
   ]
  },
  {
   "cell_type": "code",
   "execution_count": 73,
   "id": "a6b64076",
   "metadata": {},
   "outputs": [],
   "source": [
    "dict = {'id':dong_id_list, 'name':dong_name_list, 'date':ym_list, 'num_property':features_flat}"
   ]
  },
  {
   "cell_type": "code",
   "execution_count": 74,
   "id": "b71e6b13",
   "metadata": {},
   "outputs": [],
   "source": [
    "df = pd.DataFrame(dict)"
   ]
  },
  {
   "cell_type": "code",
   "execution_count": null,
   "id": "fd5910c6",
   "metadata": {},
   "outputs": [],
   "source": [
    "\n",
    "dong = st.sidebar.selectbox(\"Select a dong:\", dong_list)\n",
    "fig = px.line(df[df['dong_name']==dong], x='date', y='num_property', title=dong)"
   ]
  }
 ],
 "metadata": {
  "kernelspec": {
   "display_name": "TF",
   "language": "python",
   "name": "tf"
  },
  "language_info": {
   "codemirror_mode": {
    "name": "ipython",
    "version": 3
   },
   "file_extension": ".py",
   "mimetype": "text/x-python",
   "name": "python",
   "nbconvert_exporter": "python",
   "pygments_lexer": "ipython3",
   "version": "3.7.10"
  }
 },
 "nbformat": 4,
 "nbformat_minor": 5
}
